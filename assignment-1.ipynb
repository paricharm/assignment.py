{
 "cells": [
  {
   "cell_type": "code",
   "execution_count": null,
   "metadata": {},
   "outputs": [],
   "source": [
    "#To find the sum and average of three float numbers.\n",
    "a,b,c = float(input('a= ')),float(input('b= ')),float(input('c= '))\n",
    "s = a+b+c\n",
    "avg = s/3\n",
    "print(f'Sum= {s},Average= {avg}')"
   ]
  },
  {
   "cell_type": "code",
   "execution_count": null,
   "metadata": {},
   "outputs": [],
   "source": [
    "#To find the volume of a sphere with radius 6cm\n",
    "import math\n",
    "r = 6\n",
    "vol = (4/3)*math.pi*6**3\n",
    "print(vol)"
   ]
  },
  {
   "cell_type": "code",
   "execution_count": null,
   "metadata": {},
   "outputs": [],
   "source": [
    "#To find the area of a circle\n",
    "import math\n",
    "r = float(input('Radius= '))\n",
    "area = math.pi*r**2\n",
    "print(f\"Area= {area}\")"
   ]
  },
  {
   "cell_type": "code",
   "execution_count": null,
   "metadata": {},
   "outputs": [],
   "source": [
    "#To compute simple interest\n",
    "p,r,t = float(input('Principal Amount= ')),float(input('Rate= ')),int(input('Time= '))\n",
    "si = (p*r*t)/100\n",
    "print('Simple Interest= ',si)"
   ]
  },
  {
   "cell_type": "code",
   "execution_count": null,
   "metadata": {},
   "outputs": [],
   "source": [
    "#To swap two number without using 3rd variable\n",
    "a,b = int(input('a= ')),int(input('b= '))\n",
    "a = a ^ b\n",
    "b = a ^ b\n",
    "a = a ^ b\n",
    "print(\"After Swaping\",a,b)"
   ]
  },
  {
   "cell_type": "code",
   "execution_count": null,
   "metadata": {},
   "outputs": [],
   "source": [
    "#Convert temperature celcius to fahrenheit\n",
    "c = float(input('Temperatue in Celcius= '))\n",
    "f = (c *(9/5))+32\n",
    "print(f\"{c} Celcius = {f} Fahrenheit\")"
   ]
  },
  {
   "cell_type": "code",
   "execution_count": null,
   "metadata": {},
   "outputs": [],
   "source": [
    "#To convert give number of days into days,month,year and week\n",
    "day = int(input('Days= '))\n",
    "week = int(day/7)\n",
    "month = int(day/30)\n",
    "year = int(month/12)\n",
    "print(f'Days= {day},Week= {week},Month= {month},Year= {year}')"
   ]
  },
  {
   "cell_type": "code",
   "execution_count": null,
   "metadata": {},
   "outputs": [],
   "source": [
    "#To find the Gravitational Force Acting between two bodies\n",
    "m1,m2,d = float(input('Mass of First Body')),float(input('Mass of Second Body= ')),float(input('Distance= '))\n",
    "N = 6.67430 * 10**-11\n",
    "G = (N * (m1*m2))/d**2\n",
    "print('Gravitational Force= ',G)"
   ]
  },
  {
   "cell_type": "code",
   "execution_count": null,
   "metadata": {},
   "outputs": [],
   "source": [
    "#Find a number is Even or Odd\n",
    "a = int(input('a= '))\n",
    "if(a&1 == 1):\n",
    "    print(\"Odd Number\")\n",
    "else:\n",
    "    print(\"Even Number\")"
   ]
  },
  {
   "cell_type": "code",
   "execution_count": null,
   "metadata": {},
   "outputs": [],
   "source": [
    "#Take a number from user and if the number is greater than 15 print 2 times the difference else print the 4 times the difference \n",
    "a= int(input('a= '))\n",
    "if a > 15:\n",
    "    print(2*(a-15))\n",
    "else:\n",
    "    print(4*(15-a))"
   ]
  },
  {
   "cell_type": "code",
   "execution_count": null,
   "metadata": {},
   "outputs": [],
   "source": [
    "#To find the largest amoung the three number\n",
    "a,b,c = int(input('a= ')),int(input('b= ')),int(input('c= '))\n",
    "print(\"Maximum number= \",max(max(a,b),c))"
   ]
  },
  {
   "cell_type": "code",
   "execution_count": null,
   "metadata": {},
   "outputs": [],
   "source": [
    "#To check if a triangle is Equilateral,Scalene or Isosclees\n",
    "a,b,c = float(input(\"Side 1= \")),float(input('Side 2= ')),float(input('Side 3= '))\n",
    "if a == b == c:\n",
    "    print(\"Triangle is Equilateral\")\n",
    "elif a == b or b == c or a == c:\n",
    "    print('Triangle is Isoscless')\n",
    "else:\n",
    "    print(\"Triangle is Scalene\")"
   ]
  },
  {
   "cell_type": "code",
   "execution_count": null,
   "metadata": {},
   "outputs": [],
   "source": [
    "#To check if a year is leap year or not\n",
    "y = int(input(\"Year= \"))\n",
    "\n",
    "if year%400 == 0 or year%100 != 0 and y%4 == 0:\n",
    "    print(\"Leap Year\")\n",
    "else:\n",
    "    print(\"Not Leap Year\")"
   ]
  },
  {
   "cell_type": "code",
   "execution_count": null,
   "metadata": {},
   "outputs": [],
   "source": [
    "#Take marks of four different student and mark according to them\n",
    "s1,s2,s3,s4 = float(input(\"Student 1 Marks = \")),float(input(\"Student 2 Marks = \")),float(input(\"Student 3 Marks = \")),float(input(\"Student 4 Marks = \"))\n",
    "if s1 >= 75:\n",
    "    print(\"Student 1 Score an A\")\n",
    "elif 75<s1<=60:\n",
    "    print(\"Student 1 Score an B\")\n",
    "elif 60<s1<=40:\n",
    "    print(\"Student 1 Score an C\")\n",
    "else:\n",
    "    print(\"Student 1 Score an D\")\n",
    "if s1 >= 75:\n",
    "    print(\"Student 2 Score an A\")\n",
    "elif 75<s1<=60:\n",
    "    print(\"Student 2 Score an B\")\n",
    "elif 60<s1<=40:\n",
    "    print(\"Student 2 Score an C\")\n",
    "else:\n",
    "    print(\"Student 2 Score an D\")\n",
    "if s1 >= 75:\n",
    "    print(\"Student 3 Score an A\")\n",
    "elif 75<s1<=60:\n",
    "    print(\"Student 3 Score an B\")\n",
    "elif 60<s1<=40:\n",
    "    print(\"Student 3 Score an C\")\n",
    "else:\n",
    "    print(\"Student 3 Score an D\")\n",
    "if s1 >= 75:\n",
    "    print(\"Student 4 Score an A\")\n",
    "elif 75<s1<=60:\n",
    "    print(\"Student 4 Score an B\")\n",
    "elif 60<s1<=40:\n",
    "    print(\"Student 4 Score an C\")\n",
    "else:\n",
    "    print(\"Student 4 Score an D\")\n"
   ]
  },
  {
   "cell_type": "code",
   "execution_count": null,
   "metadata": {},
   "outputs": [],
   "source": [
    "#To implement a Simple Calculator\n",
    "choice  = input(\"Enter +,-,*,/,% to do operation between two number\")\n",
    "a,b = int(input('a= ')),int(input('b= '))\n",
    "match choice:\n",
    "    case \"+\":\n",
    "        print(f\"Addition= {a+b}\")\n",
    "    case \"-\":\n",
    "        print(f\"Subtaction= {abs(a-b)}\")\n",
    "    case \"*\":\n",
    "        print(f\"Mutiply= {a*b}\")\n",
    "    case \"/\":\n",
    "        print(f\"Division= {a/b}\")\n",
    "    case \"%\":\n",
    "        print(f\"Modulus= {a%b}\")\n",
    "    case default:\n",
    "        print(\"Enter a Valid Option\")"
   ]
  },
  {
   "cell_type": "code",
   "execution_count": null,
   "metadata": {},
   "outputs": [],
   "source": [
    "#To find the roots of Quadatic Equation\n",
    "import math\n",
    "a,b,c=float(input('a= ')),float(input('b= ')),float(input('c= '))\n",
    "root1 = (-1*b +  math.sqrt(b**2 - 4*a*c))/2*a\n",
    "root2 = (-1*b -  math.sqrt(b**2 - 4*a*c))/2*a\n",
    "print('Roots are= ',root1,root2)"
   ]
  },
  {
   "cell_type": "code",
   "execution_count": null,
   "metadata": {},
   "outputs": [],
   "source": [
    "#To print 1 to n\n",
    "n= int(input('n= '))\n",
    "for i in range(1,n+1):\n",
    "    print(i)"
   ]
  },
  {
   "cell_type": "code",
   "execution_count": null,
   "metadata": {},
   "outputs": [],
   "source": [
    "#Sum of Natural number\n",
    "n = int(input('n= '))\n",
    "sum = 0\n",
    "for i in range(1,n+1):\n",
    "    sum += i\n",
    "print(\"Sum= \",sum)"
   ]
  },
  {
   "cell_type": "code",
   "execution_count": null,
   "metadata": {},
   "outputs": [],
   "source": [
    "#Sum of Digits\n",
    "num = int(input(\"Num= \"))\n",
    "sum = 0\n",
    "while num > 0:\n",
    "    x = int(num%10)\n",
    "    sum += x\n",
    "    num = int(num/10)\n",
    "print(\"Sum of Digits= \",sum)"
   ]
  },
  {
   "cell_type": "code",
   "execution_count": null,
   "metadata": {},
   "outputs": [],
   "source": [
    "#Factor of a Number\n",
    "num = int(input('Num= '))\n",
    "fac = [1]\n",
    "for i in range(2,int(num/2)):\n",
    "    if num%i == 0:\n",
    "        fac.append(i)\n",
    "print(\"The factor are \",fac)"
   ]
  },
  {
   "cell_type": "code",
   "execution_count": null,
   "metadata": {},
   "outputs": [],
   "source": [
    "#Reverse  a Number\n",
    "num = int(input('Num= '))\n",
    "sum=0\n",
    "while num>0:\n",
    "    x=int(num%10)\n",
    "    sum = sum*10 + x\n",
    "    num = int(num/10)\n",
    "print(\"Reverse= \",sum)"
   ]
  },
  {
   "cell_type": "code",
   "execution_count": null,
   "metadata": {},
   "outputs": [],
   "source": [
    "#Factorial of a number\n",
    "num = int(input('Num= '))\n",
    "fac = 1\n",
    "for i in range(1,num+1):\n",
    "    fac *= i\n",
    "print('Factorial= ',fac)"
   ]
  },
  {
   "cell_type": "code",
   "execution_count": null,
   "metadata": {},
   "outputs": [],
   "source": [
    "#Check Palindrome\n",
    "num = int(input('Num= '))\n",
    "temp = num\n",
    "sum=0\n",
    "while temp > 0:\n",
    "    x= int(temp%10)\n",
    "    sum = sum*10 + x\n",
    "    temp = int(temp/10)\n",
    "if sum == num:\n",
    "    print(\"Pallindrome\")\n",
    "else:\n",
    "    print(\"Not Pallindrome\")"
   ]
  },
  {
   "cell_type": "code",
   "execution_count": null,
   "metadata": {},
   "outputs": [],
   "source": [
    "#Check a number is Prime or not\n",
    "num= int(input(\"Num= \"))\n",
    "c=0\n",
    "if num == 0:\n",
    "    print('Enter a Valid Number')\n",
    "if num == 1:\n",
    "    print('Not Prime')\n",
    "    c=1\n",
    "for i in range(2,int(num/2)+1):\n",
    "    if int(num%i) == 0:\n",
    "        print(\"It is Not Prime\")\n",
    "        c=1\n",
    "        break\n",
    "if c == 0:\n",
    "    print(\"It is Prime Number\")\n"
   ]
  },
  {
   "cell_type": "code",
   "execution_count": null,
   "metadata": {},
   "outputs": [],
   "source": [
    "#Check a number is Armstrong or not\n",
    "num=int(input(\"Num= \"))\n",
    "temp1=num\n",
    "temp2=num\n",
    "count,sum = 0,0\n",
    "while temp1 > 0:\n",
    "    count += 1\n",
    "    temp1 =int(temp1/10)\n",
    "while temp2 > 0:\n",
    "    x = int(temp2%10)\n",
    "    sum = sum + x**count\n",
    "    temp2 = int(temp2/10)\n",
    "if sum == num:\n",
    "    print(\"It is a Armstrong Number\")\n",
    "else:\n",
    "    print(\"It is not a Armstrong Number\")"
   ]
  },
  {
   "cell_type": "code",
   "execution_count": null,
   "metadata": {},
   "outputs": [],
   "source": [
    "#Print the Fibonacci Series\n",
    "num= int(input('Num= '))\n",
    "a,b,count = 0,1,1\n",
    "c=b\n",
    "print(0,1,end=\" \")\n",
    "while count <= num:\n",
    "    print(c,end=\" \")\n",
    "    count += 1\n",
    "    a,b = b,c\n",
    "    c = a+b"
   ]
  },
  {
   "cell_type": "code",
   "execution_count": null,
   "metadata": {},
   "outputs": [],
   "source": [
    "#To implement the mutiplication table\n",
    "num = int(input('Num= '))\n",
    "for i in range(1,11):\n",
    "    print(f'{num} x {i}= ',(num*i))"
   ]
  },
  {
   "cell_type": "code",
   "execution_count": null,
   "metadata": {},
   "outputs": [],
   "source": [
    "#Take input from user in a list and print it\n",
    "n = int(input(\"Enter list size= \"))\n",
    "myList = [int(input(f\"Element {i+1}\")) for i in range(n)]\n",
    "for i in myList:\n",
    "    print(i)"
   ]
  },
  {
   "cell_type": "code",
   "execution_count": null,
   "metadata": {},
   "outputs": [],
   "source": [
    "#Average of n number using list\n",
    "n=int(input(\"Enter the Size\"))\n",
    "myList = [int(input(f\"Element {i+1}= \")) for i in range(n)]\n",
    "avg = sum(myList)/n\n",
    "print(avg)"
   ]
  },
  {
   "cell_type": "code",
   "execution_count": null,
   "metadata": {},
   "outputs": [],
   "source": [
    "#Largest element in the List\n",
    "n=int(input(\"Enter the Size\"))\n",
    "myList = [int(input(f\"Element {i+1}= \")) for i in range(n)]\n",
    "print(\"Maximum Element= \",max(myList))"
   ]
  },
  {
   "cell_type": "code",
   "execution_count": null,
   "metadata": {},
   "outputs": [],
   "source": [
    "#To perform a Linear Search\n",
    "n=int(input(\"Enter the Size\"))\n",
    "myList = [int(input(f\"Element {i+1}= \")) for i in range(n)]\n",
    "ele = int(input(\"Enter the element to be searched\"))\n",
    "if ele in myList:\n",
    "    print(f\"Element present in {myList.index(ele)}th position\")\n",
    "else:\n",
    "    print(\"Element not present\")"
   ]
  },
  {
   "cell_type": "code",
   "execution_count": null,
   "metadata": {},
   "outputs": [],
   "source": [
    "#To capitalize a sequence of Sentence\n",
    "s = input(\"Enter a Sentence= \")\n",
    "print(s.upper())"
   ]
  },
  {
   "cell_type": "code",
   "execution_count": null,
   "metadata": {},
   "outputs": [],
   "source": [
    "#To accept a sequence of number separeted by a comma and make a list of those numbers\n",
    "s= input().split(',')\n",
    "print(\"The list is \",s)"
   ]
  },
  {
   "cell_type": "code",
   "execution_count": 16,
   "metadata": {},
   "outputs": [
    {
     "name": "stdout",
     "output_type": "stream",
     "text": [
      "Press = to calculate the net amount\n",
      "Net Amount=  700\n"
     ]
    }
   ],
   "source": [
    "#To compute the net amount of a tanscaption\n",
    "t = {'D':0}\n",
    "print(\"Press = to calculate the net amount\")\n",
    "while True:\n",
    "    n = input().split()\n",
    "    if n[0] == '=':\n",
    "        break\n",
    "    if n[0] == 'D':\n",
    "        t['D'] += int(n[1])\n",
    "    if n[0] == 'W':\n",
    "        if t['D'] >= int(n[1]):\n",
    "            t['D'] -= int(n[1])\n",
    "        else:\n",
    "            print(\"Insufficient Balance\")\n",
    "            break\n",
    "    \n",
    "print('Net Amount= ',(t['D']))    "
   ]
  }
 ],
 "metadata": {
  "kernelspec": {
   "display_name": "Python 3",
   "language": "python",
   "name": "python3"
  },
  "language_info": {
   "codemirror_mode": {
    "name": "ipython",
    "version": 3
   },
   "file_extension": ".py",
   "mimetype": "text/x-python",
   "name": "python",
   "nbconvert_exporter": "python",
   "pygments_lexer": "ipython3",
   "version": "3.12.2"
  }
 },
 "nbformat": 4,
 "nbformat_minor": 2
}
